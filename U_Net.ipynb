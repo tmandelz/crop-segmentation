{
 "cells": [
  {
   "cell_type": "code",
   "execution_count": 1,
   "metadata": {},
   "outputs": [],
   "source": [
    "import torch, numpy, torchvision\n",
    "import torch.nn as nn\n",
    "import torch.nn.functional as F\n",
    "from torchvision import datasets\n",
    "from torchvision.transforms import ToTensor\n",
    "import torchvision.transforms as transforms\n",
    "import torch.optim as optim\n",
    "import matplotlib.pyplot as plt\n",
    "from random import randrange\n",
    "from tqdm import tqdm\n",
    "from sklearn.metrics import confusion_matrix, ConfusionMatrixDisplay\n",
    "import wandb\n",
    "from sklearn.model_selection import KFold\n",
    "from IPython.display import IFrame\n",
    "from src.dataset import Dataset\n",
    "from src.modelling import DeepModel_Trainer\n",
    "from models.UNet import UNet\n",
    "from torcheval.metrics.functional import multiclass_f1_score"
   ]
  },
  {
   "cell_type": "code",
   "execution_count": 2,
   "metadata": {},
   "outputs": [
    {
     "name": "stderr",
     "output_type": "stream",
     "text": [
      "Failed to detect the name of this notebook, you can set it manually with the WANDB_NOTEBOOK_NAME environment variable to enable code saving.\n",
      "\u001b[34m\u001b[1mwandb\u001b[0m: Currently logged in as: \u001b[33mdaniela-herzig\u001b[0m (\u001b[33mdlbs_crop\u001b[0m). Use \u001b[1m`wandb login --relogin`\u001b[0m to force relogin\n",
      "\u001b[34m\u001b[1mwandb\u001b[0m: \u001b[33mWARNING\u001b[0m If you're specifying your api key in code, ensure this code is not shared publicly.\n",
      "\u001b[34m\u001b[1mwandb\u001b[0m: \u001b[33mWARNING\u001b[0m Consider setting the WANDB_API_KEY environment variable, or running `wandb login` from the command line.\n",
      "\u001b[34m\u001b[1mwandb\u001b[0m: Appending key for api.wandb.ai to your netrc file: C:\\Users\\danie/.netrc\n"
     ]
    },
    {
     "data": {
      "text/plain": [
       "True"
      ]
     },
     "execution_count": 2,
     "metadata": {},
     "output_type": "execute_result"
    }
   ],
   "source": [
    "wandb.login(key = '8692bab115d599f0d9ca9468f0ea850beb5131b7')"
   ]
  },
  {
   "cell_type": "code",
   "execution_count": 3,
   "metadata": {},
   "outputs": [],
   "source": [
    "Unet=UNet()"
   ]
  },
  {
   "cell_type": "code",
   "execution_count": 4,
   "metadata": {},
   "outputs": [],
   "source": [
    "test = DeepModel_Trainer('../AgroLuege/raw_data/ZueriCrop/ZueriCrop.hdf5', 'labels.csv', Unet, 'cpu')"
   ]
  },
  {
   "cell_type": "code",
   "execution_count": 5,
   "metadata": {},
   "outputs": [
    {
     "data": {
      "text/html": [
       "Tracking run with wandb version 0.16.1"
      ],
      "text/plain": [
       "<IPython.core.display.HTML object>"
      ]
     },
     "metadata": {},
     "output_type": "display_data"
    },
    {
     "data": {
      "text/html": [
       "Run data is saved locally in <code>c:\\Users\\danie\\Documents\\Studium\\GitLab\\dlbs-crop-segmentation\\wandb\\run-20231212_075551-6b4sn0la</code>"
      ],
      "text/plain": [
       "<IPython.core.display.HTML object>"
      ]
     },
     "metadata": {},
     "output_type": "display_data"
    },
    {
     "data": {
      "text/html": [
       "Syncing run <strong><a href='https://wandb.ai/dlbs_crop/dlbs_crop-UNet/runs/6b4sn0la' target=\"_blank\">all10-Fold</a></strong> to <a href='https://wandb.ai/dlbs_crop/dlbs_crop-UNet' target=\"_blank\">Weights & Biases</a> (<a href='https://wandb.me/run' target=\"_blank\">docs</a>)<br/>"
      ],
      "text/plain": [
       "<IPython.core.display.HTML object>"
      ]
     },
     "metadata": {},
     "output_type": "display_data"
    },
    {
     "data": {
      "text/html": [
       " View project at <a href='https://wandb.ai/dlbs_crop/dlbs_crop-UNet' target=\"_blank\">https://wandb.ai/dlbs_crop/dlbs_crop-UNet</a>"
      ],
      "text/plain": [
       "<IPython.core.display.HTML object>"
      ]
     },
     "metadata": {},
     "output_type": "display_data"
    },
    {
     "data": {
      "text/html": [
       " View run at <a href='https://wandb.ai/dlbs_crop/dlbs_crop-UNet/runs/6b4sn0la' target=\"_blank\">https://wandb.ai/dlbs_crop/dlbs_crop-UNet/runs/6b4sn0la</a>"
      ],
      "text/plain": [
       "<IPython.core.display.HTML object>"
      ]
     },
     "metadata": {},
     "output_type": "display_data"
    },
    {
     "name": "stdout",
     "output_type": "stream",
     "text": [
      "5fold:  3   Mode:  test\n",
      "Dataset size:  27977\n",
      "Valid dataset size:  4477\n",
      "Sequence length:  142\n",
      "Spatial size:  (24, 24)\n",
      "Number of classes:  52\n",
      "Number of classes - local-1:  6\n",
      "Number of classes - local-2:  20\n",
      "5fold:  4   Mode:  test\n",
      "Dataset size:  27977\n",
      "Valid dataset size:  1119\n",
      "Sequence length:  142\n",
      "Spatial size:  (24, 24)\n",
      "Number of classes:  52\n",
      "Number of classes - local-1:  6\n",
      "Number of classes - local-2:  20\n"
     ]
    },
    {
     "name": "stderr",
     "output_type": "stream",
     "text": [
      "Epoch-Iteration:  10%|█         | 1/10 [00:36<05:25, 36.11s/epoch]"
     ]
    },
    {
     "name": "stdout",
     "output_type": "stream",
     "text": [
      "(4, 24, 24) (4, 24, 24) (4, 24, 24) (4, 24, 24)\n"
     ]
    },
    {
     "name": "stderr",
     "output_type": "stream",
     "text": [
      "Epoch-Iteration:  20%|██        | 2/10 [01:22<05:35, 41.89s/epoch]"
     ]
    },
    {
     "name": "stdout",
     "output_type": "stream",
     "text": [
      "(4, 24, 24) (4, 24, 24) (4, 24, 24) (4, 24, 24)\n"
     ]
    },
    {
     "name": "stderr",
     "output_type": "stream",
     "text": [
      "Epoch-Iteration:  30%|███       | 3/10 [02:16<05:33, 47.63s/epoch]"
     ]
    },
    {
     "name": "stdout",
     "output_type": "stream",
     "text": [
      "(4, 24, 24) (4, 24, 24) (4, 24, 24) (4, 24, 24)\n"
     ]
    },
    {
     "name": "stderr",
     "output_type": "stream",
     "text": [
      "Epoch-Iteration:  40%|████      | 4/10 [03:12<05:06, 51.11s/epoch]"
     ]
    },
    {
     "name": "stdout",
     "output_type": "stream",
     "text": [
      "(4, 24, 24) (4, 24, 24) (4, 24, 24) (4, 24, 24)\n"
     ]
    },
    {
     "name": "stderr",
     "output_type": "stream",
     "text": [
      "Epoch-Iteration:  50%|█████     | 5/10 [04:07<04:20, 52.19s/epoch]"
     ]
    },
    {
     "name": "stdout",
     "output_type": "stream",
     "text": [
      "(4, 24, 24) (4, 24, 24) (4, 24, 24) (4, 24, 24)\n"
     ]
    },
    {
     "name": "stderr",
     "output_type": "stream",
     "text": [
      "Epoch-Iteration:  60%|██████    | 6/10 [05:01<03:31, 52.93s/epoch]"
     ]
    },
    {
     "name": "stdout",
     "output_type": "stream",
     "text": [
      "(4, 24, 24) (4, 24, 24) (4, 24, 24) (4, 24, 24)\n"
     ]
    },
    {
     "name": "stderr",
     "output_type": "stream",
     "text": [
      "Epoch-Iteration:  70%|███████   | 7/10 [05:52<02:37, 52.37s/epoch]"
     ]
    },
    {
     "name": "stdout",
     "output_type": "stream",
     "text": [
      "(4, 24, 24) (4, 24, 24) (4, 24, 24) (4, 24, 24)\n"
     ]
    },
    {
     "name": "stderr",
     "output_type": "stream",
     "text": [
      "Epoch-Iteration:  80%|████████  | 8/10 [1:01:43<36:44, 1102.33s/epoch]"
     ]
    },
    {
     "name": "stdout",
     "output_type": "stream",
     "text": [
      "(4, 24, 24) (4, 24, 24) (4, 24, 24) (4, 24, 24)\n"
     ]
    },
    {
     "name": "stderr",
     "output_type": "stream",
     "text": [
      "Epoch-Iteration:  90%|█████████ | 9/10 [1:02:22<12:50, 770.07s/epoch] "
     ]
    },
    {
     "name": "stdout",
     "output_type": "stream",
     "text": [
      "(4, 24, 24) (4, 24, 24) (4, 24, 24) (4, 24, 24)\n"
     ]
    },
    {
     "name": "stderr",
     "output_type": "stream",
     "text": [
      "Epoch-Iteration: 100%|██████████| 10/10 [1:02:57<00:00, 377.80s/epoch]"
     ]
    },
    {
     "name": "stdout",
     "output_type": "stream",
     "text": [
      "(4, 24, 24) (4, 24, 24) (4, 24, 24) (4, 24, 24)\n"
     ]
    },
    {
     "name": "stderr",
     "output_type": "stream",
     "text": [
      "\n"
     ]
    }
   ],
   "source": [
    "test.train_model('test_run', 'Unet', 'all', num_epochs=1, test_model=True)"
   ]
  },
  {
   "cell_type": "code",
   "execution_count": 6,
   "metadata": {},
   "outputs": [
    {
     "data": {
      "text/html": [
       "<style>\n",
       "    table.wandb td:nth-child(1) { padding: 0 10px; text-align: left ; width: auto;} td:nth-child(2) {text-align: left ; width: 100%}\n",
       "    .wandb-row { display: flex; flex-direction: row; flex-wrap: wrap; justify-content: flex-start; width: 100% }\n",
       "    .wandb-col { display: flex; flex-direction: column; flex-basis: 100%; flex: 1; padding: 10px; }\n",
       "    </style>\n",
       "<div class=\"wandb-row\"><div class=\"wandb-col\"><h3>Run history:</h3><br/><table class=\"wandb\"><tr><td>Loss train</td><td>▁▁▁▁▁█▁▁▁▁</td></tr><tr><td>Loss val</td><td>▁▁█▁▁▁▁▁▁▁</td></tr><tr><td>epoch</td><td>▁▁▂▂▃▃▃▃▄▄▅▅▆▆▆▆▇▇██</td></tr><tr><td>index_batch</td><td>▁▁▁▁▁▁▁▁▁▁</td></tr><tr><td>loss batch</td><td>▁▁▁▁▁█▁▁▁▁</td></tr><tr><td>loss batch val</td><td>▁▁█▁▁▁▁▁▁▁</td></tr><tr><td>test f1_score_global</td><td>▁▁▄███████</td></tr><tr><td>train f1_score_global</td><td>▁▁▁▆██████</td></tr></table><br/></div><div class=\"wandb-col\"><h3>Run summary:</h3><br/><table class=\"wandb\"><tr><td>Loss train</td><td>1.70692</td></tr><tr><td>Loss val</td><td>130.2671</td></tr><tr><td>epoch</td><td>9</td></tr><tr><td>index_batch</td><td>0</td></tr><tr><td>loss batch</td><td>1.70692</td></tr><tr><td>loss batch val</td><td>130.2671</td></tr><tr><td>test f1_score_global</td><td>0.26736</td></tr><tr><td>train f1_score_global</td><td>0.46181</td></tr></table><br/></div></div>"
      ],
      "text/plain": [
       "<IPython.core.display.HTML object>"
      ]
     },
     "metadata": {},
     "output_type": "display_data"
    },
    {
     "data": {
      "text/html": [
       " View run <strong style=\"color:#cdcd00\">all10-Fold</strong> at: <a href='https://wandb.ai/dlbs_crop/dlbs_crop-UNet/runs/6b4sn0la' target=\"_blank\">https://wandb.ai/dlbs_crop/dlbs_crop-UNet/runs/6b4sn0la</a><br/>Synced 5 W&B file(s), 0 media file(s), 0 artifact file(s) and 0 other file(s)"
      ],
      "text/plain": [
       "<IPython.core.display.HTML object>"
      ]
     },
     "metadata": {},
     "output_type": "display_data"
    },
    {
     "data": {
      "text/html": [
       "Find logs at: <code>.\\wandb\\run-20231212_075551-6b4sn0la\\logs</code>"
      ],
      "text/plain": [
       "<IPython.core.display.HTML object>"
      ]
     },
     "metadata": {},
     "output_type": "display_data"
    }
   ],
   "source": [
    "wandb.finish()"
   ]
  },
  {
   "cell_type": "code",
   "execution_count": null,
   "metadata": {},
   "outputs": [],
   "source": []
  },
  {
   "cell_type": "code",
   "execution_count": null,
   "metadata": {},
   "outputs": [],
   "source": []
  }
 ],
 "metadata": {
  "kernelspec": {
   "display_name": "dlbs-crop-segmentation-NoGWFG2S",
   "language": "python",
   "name": "python3"
  },
  "language_info": {
   "codemirror_mode": {
    "name": "ipython",
    "version": 3
   },
   "file_extension": ".py",
   "mimetype": "text/x-python",
   "name": "python",
   "nbconvert_exporter": "python",
   "pygments_lexer": "ipython3",
   "version": "3.11.2"
  }
 },
 "nbformat": 4,
 "nbformat_minor": 2
}
