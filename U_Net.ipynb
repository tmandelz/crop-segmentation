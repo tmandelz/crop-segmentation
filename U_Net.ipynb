{
 "cells": [
  {
   "cell_type": "code",
   "execution_count": 1,
   "metadata": {},
   "outputs": [],
   "source": [
    "import torch, numpy, torchvision\n",
    "import torch.nn as nn\n",
    "import torch.nn.functional as F\n",
    "from torchvision import datasets\n",
    "from torchvision.transforms import ToTensor\n",
    "import torchvision.transforms as transforms\n",
    "import torch.optim as optim\n",
    "import matplotlib.pyplot as plt\n",
    "from random import randrange\n",
    "from tqdm import tqdm\n",
    "from sklearn.metrics import confusion_matrix, ConfusionMatrixDisplay\n",
    "import wandb\n",
    "from sklearn.model_selection import KFold\n",
    "from IPython.display import IFrame\n",
    "from src.dataset import Dataset\n",
    "from src.modelling import DeepModel_Trainer\n",
    "from models.UNet import UNet"
   ]
  },
  {
   "cell_type": "code",
   "execution_count": 2,
   "metadata": {},
   "outputs": [
    {
     "name": "stderr",
     "output_type": "stream",
     "text": [
      "Failed to detect the name of this notebook, you can set it manually with the WANDB_NOTEBOOK_NAME environment variable to enable code saving.\n",
      "\u001b[34m\u001b[1mwandb\u001b[0m: Currently logged in as: \u001b[33mdaniela-herzig\u001b[0m (\u001b[33mdlbs_crop\u001b[0m). Use \u001b[1m`wandb login --relogin`\u001b[0m to force relogin\n",
      "\u001b[34m\u001b[1mwandb\u001b[0m: \u001b[33mWARNING\u001b[0m If you're specifying your api key in code, ensure this code is not shared publicly.\n",
      "\u001b[34m\u001b[1mwandb\u001b[0m: \u001b[33mWARNING\u001b[0m Consider setting the WANDB_API_KEY environment variable, or running `wandb login` from the command line.\n",
      "\u001b[34m\u001b[1mwandb\u001b[0m: Appending key for api.wandb.ai to your netrc file: C:\\Users\\danie/.netrc\n"
     ]
    },
    {
     "data": {
      "text/plain": [
       "True"
      ]
     },
     "execution_count": 2,
     "metadata": {},
     "output_type": "execute_result"
    }
   ],
   "source": [
    "wandb.login(key = '8692bab115d599f0d9ca9468f0ea850beb5131b7')"
   ]
  },
  {
   "cell_type": "code",
   "execution_count": 3,
   "metadata": {},
   "outputs": [],
   "source": [
    "Unet=UNet()"
   ]
  },
  {
   "cell_type": "code",
   "execution_count": 4,
   "metadata": {},
   "outputs": [],
   "source": [
    "test = DeepModel_Trainer('../AgroLuege/raw_data/ZueriCrop/ZueriCrop.hdf5', 'labels.csv', Unet, 'cpu')"
   ]
  },
  {
   "cell_type": "code",
   "execution_count": 5,
   "metadata": {},
   "outputs": [
    {
     "name": "stderr",
     "output_type": "stream",
     "text": [
      "\u001b[34m\u001b[1mwandb\u001b[0m: Currently logged in as: \u001b[33mdaniela-herzig\u001b[0m. Use \u001b[1m`wandb login --relogin`\u001b[0m to force relogin\n"
     ]
    },
    {
     "data": {
      "text/html": [
       "wandb version 0.16.1 is available!  To upgrade, please run:\n",
       " $ pip install wandb --upgrade"
      ],
      "text/plain": [
       "<IPython.core.display.HTML object>"
      ]
     },
     "metadata": {},
     "output_type": "display_data"
    },
    {
     "data": {
      "text/html": [
       "Tracking run with wandb version 0.16.0"
      ],
      "text/plain": [
       "<IPython.core.display.HTML object>"
      ]
     },
     "metadata": {},
     "output_type": "display_data"
    },
    {
     "data": {
      "text/html": [
       "Run data is saved locally in <code>c:\\Users\\danie\\Documents\\Studium\\GitLab\\dlbs-crop-segmentation\\wandb\\run-20231206_093716-8du4g6f1</code>"
      ],
      "text/plain": [
       "<IPython.core.display.HTML object>"
      ]
     },
     "metadata": {},
     "output_type": "display_data"
    },
    {
     "data": {
      "text/html": [
       "Syncing run <strong><a href='https://wandb.ai/daniela-herzig/dlbs_crop/runs/8du4g6f1' target=\"_blank\">all-Fold</a></strong> to <a href='https://wandb.ai/daniela-herzig/dlbs_crop' target=\"_blank\">Weights & Biases</a> (<a href='https://wandb.me/run' target=\"_blank\">docs</a>)<br/>"
      ],
      "text/plain": [
       "<IPython.core.display.HTML object>"
      ]
     },
     "metadata": {},
     "output_type": "display_data"
    },
    {
     "data": {
      "text/html": [
       " View project at <a href='https://wandb.ai/daniela-herzig/dlbs_crop' target=\"_blank\">https://wandb.ai/daniela-herzig/dlbs_crop</a>"
      ],
      "text/plain": [
       "<IPython.core.display.HTML object>"
      ]
     },
     "metadata": {},
     "output_type": "display_data"
    },
    {
     "data": {
      "text/html": [
       " View run at <a href='https://wandb.ai/daniela-herzig/dlbs_crop/runs/8du4g6f1' target=\"_blank\">https://wandb.ai/daniela-herzig/dlbs_crop/runs/8du4g6f1</a>"
      ],
      "text/plain": [
       "<IPython.core.display.HTML object>"
      ]
     },
     "metadata": {},
     "output_type": "display_data"
    },
    {
     "name": "stdout",
     "output_type": "stream",
     "text": [
      "5fold:  3   Mode:  test\n",
      "Dataset size:  27977\n",
      "Valid dataset size:  4477\n",
      "Sequence length:  142\n",
      "Spatial size:  (24, 24)\n",
      "Number of classes:  52\n",
      "Number of classes - local-1:  6\n",
      "Number of classes - local-2:  20\n",
      "5fold:  4   Mode:  test\n",
      "Dataset size:  27977\n",
      "Valid dataset size:  1119\n",
      "Sequence length:  142\n",
      "Spatial size:  (24, 24)\n",
      "Number of classes:  52\n",
      "Number of classes - local-1:  6\n",
      "Number of classes - local-2:  20\n"
     ]
    },
    {
     "name": "stderr",
     "output_type": "stream",
     "text": [
      "Epoch-Iteration:   0%|          | 0/1 [00:00<?, ?epoch/s]"
     ]
    },
    {
     "name": "stdout",
     "output_type": "stream",
     "text": [
      "(4, 24, 24)\n"
     ]
    },
    {
     "name": "stderr",
     "output_type": "stream",
     "text": [
      "Epoch-Iteration:   0%|          | 0/1 [00:48<?, ?epoch/s]\n"
     ]
    },
    {
     "ename": "ValueError",
     "evalue": "unknown is not supported",
     "output_type": "error",
     "traceback": [
      "\u001b[1;31m---------------------------------------------------------------------------\u001b[0m",
      "\u001b[1;31mValueError\u001b[0m                                Traceback (most recent call last)",
      "\u001b[1;32mc:\\Users\\danie\\Documents\\Studium\\GitLab\\dlbs-crop-segmentation\\U_Net.ipynb Cell 5\u001b[0m line \u001b[0;36m1\n\u001b[1;32m----> <a href='vscode-notebook-cell:/c%3A/Users/danie/Documents/Studium/GitLab/dlbs-crop-segmentation/U_Net.ipynb#W4sZmlsZQ%3D%3D?line=0'>1</a>\u001b[0m test\u001b[39m.\u001b[39;49mtrain_model(\u001b[39m'\u001b[39;49m\u001b[39mtest_run\u001b[39;49m\u001b[39m'\u001b[39;49m, \u001b[39m'\u001b[39;49m\u001b[39mUnet\u001b[39;49m\u001b[39m'\u001b[39;49m, \u001b[39m'\u001b[39;49m\u001b[39mall\u001b[39;49m\u001b[39m'\u001b[39;49m, num_epochs\u001b[39m=\u001b[39;49m\u001b[39m1\u001b[39;49m, test_model\u001b[39m=\u001b[39;49m\u001b[39mTrue\u001b[39;49;00m)\n",
      "File \u001b[1;32mc:\\Users\\danie\\Documents\\Studium\\GitLab\\dlbs-crop-segmentation\\src\\modelling.py:243\u001b[0m, in \u001b[0;36mDeepModel_Trainer.train_model\u001b[1;34m(self, run_group, model_architecture, fold, num_epochs, test_model, loss_module, lr, validate_batch_loss_each)\u001b[0m\n\u001b[0;32m    239\u001b[0m pred_val, label_val \u001b[39m=\u001b[39m \u001b[39mself\u001b[39m\u001b[39m.\u001b[39mpredict(\u001b[39mself\u001b[39m\u001b[39m.\u001b[39mmodel, \u001b[39mself\u001b[39m\u001b[39m.\u001b[39mtest_loader)\n\u001b[0;32m    240\u001b[0m loss_val \u001b[39m=\u001b[39m loss_module(torch\u001b[39m.\u001b[39mtensor(\n\u001b[0;32m    241\u001b[0m     pred_val), torch\u001b[39m.\u001b[39mtensor(label_val))\n\u001b[1;32m--> 243\u001b[0m \u001b[39mself\u001b[39;49m\u001b[39m.\u001b[39;49mevaluation\u001b[39m.\u001b[39;49mper_epoch(\n\u001b[0;32m    244\u001b[0m     epoch,\n\u001b[0;32m    245\u001b[0m     loss_train\u001b[39m.\u001b[39;49mmean(),\n\u001b[0;32m    246\u001b[0m     pred_train_data,\n\u001b[0;32m    247\u001b[0m     label_train_data,\n\u001b[0;32m    248\u001b[0m     loss_val,\n\u001b[0;32m    249\u001b[0m     np\u001b[39m.\u001b[39;49margmax(pred_val, axis\u001b[39m=\u001b[39;49m\u001b[39m1\u001b[39;49m),\n\u001b[0;32m    250\u001b[0m     label_val,\n\u001b[0;32m    251\u001b[0m )\n\u001b[0;32m    254\u001b[0m \u001b[39m# wandb per model\u001b[39;00m\n\u001b[0;32m    255\u001b[0m \u001b[39mself\u001b[39m\u001b[39m.\u001b[39mevaluation\u001b[39m.\u001b[39mper_model(\n\u001b[0;32m    256\u001b[0m     label_val, pred_val, \u001b[39mself\u001b[39m\u001b[39m.\u001b[39mdata_model\u001b[39m.\u001b[39mval\u001b[39m.\u001b[39mdata)\n",
      "File \u001b[1;32mc:\\Users\\danie\\Documents\\Studium\\GitLab\\dlbs-crop-segmentation\\src\\evaluation.py:58\u001b[0m, in \u001b[0;36mEvaluation.per_epoch\u001b[1;34m(self, epoch, loss_train, pred_train, label_train, loss_val, pred_val, label_val)\u001b[0m\n\u001b[0;32m     38\u001b[0m \u001b[39mdef\u001b[39;00m \u001b[39mper_epoch\u001b[39m(\n\u001b[0;32m     39\u001b[0m     \u001b[39mself\u001b[39m,\n\u001b[0;32m     40\u001b[0m     epoch: \u001b[39mint\u001b[39m,\n\u001b[1;32m   (...)\u001b[0m\n\u001b[0;32m     46\u001b[0m     label_val: np\u001b[39m.\u001b[39marray,\n\u001b[0;32m     47\u001b[0m ) \u001b[39m-\u001b[39m\u001b[39m>\u001b[39m \u001b[39mNone\u001b[39;00m:\n\u001b[0;32m     48\u001b[0m \u001b[39m    \u001b[39m\u001b[39m\"\"\"\u001b[39;00m\n\u001b[0;32m     49\u001b[0m \u001b[39m    wandb log of different scores\u001b[39;00m\n\u001b[0;32m     50\u001b[0m \u001b[39m    :param int epoch: index of the epoch to log\u001b[39;00m\n\u001b[1;32m   (...)\u001b[0m\n\u001b[0;32m     56\u001b[0m \u001b[39m    :param np.array label_val: labels of the validation\u001b[39;00m\n\u001b[0;32m     57\u001b[0m \u001b[39m    \"\"\"\u001b[39;00m\n\u001b[1;32m---> 58\u001b[0m     f1_train \u001b[39m=\u001b[39m {\n\u001b[0;32m     59\u001b[0m         \u001b[39mf\u001b[39;49m\u001b[39m\"\u001b[39;49m\u001b[39mtrain f1_score von \u001b[39;49m\u001b[39m{\u001b[39;49;00m\u001b[39mself\u001b[39;49m\u001b[39m.\u001b[39;49mclasses[animal]\u001b[39m}\u001b[39;49;00m\u001b[39m\"\u001b[39;49m: f1_score(\n\u001b[0;32m     60\u001b[0m             label_train[:, animal], pred_train \u001b[39m==\u001b[39;49m animal\n\u001b[0;32m     61\u001b[0m         )\n\u001b[0;32m     62\u001b[0m         \u001b[39mfor\u001b[39;49;00m animal \u001b[39min\u001b[39;49;00m \u001b[39mrange\u001b[39;49m(\u001b[39mlen\u001b[39;49m(\u001b[39mself\u001b[39;49m\u001b[39m.\u001b[39;49mclasses))\n\u001b[0;32m     63\u001b[0m     }\n\u001b[0;32m     64\u001b[0m     f1_test \u001b[39m=\u001b[39m {\n\u001b[0;32m     65\u001b[0m         \u001b[39mf\u001b[39m\u001b[39m\"\u001b[39m\u001b[39mvalidation f1_score von \u001b[39m\u001b[39m{\u001b[39;00m\u001b[39mself\u001b[39m\u001b[39m.\u001b[39mclasses[animal]\u001b[39m}\u001b[39;00m\u001b[39m\"\u001b[39m: f1_score(\n\u001b[0;32m     66\u001b[0m             label_val[:, animal], pred_val \u001b[39m==\u001b[39m animal\n\u001b[0;32m     67\u001b[0m         )\n\u001b[0;32m     68\u001b[0m         \u001b[39mfor\u001b[39;00m animal \u001b[39min\u001b[39;00m \u001b[39mrange\u001b[39m(\u001b[39mlen\u001b[39m(\u001b[39mself\u001b[39m\u001b[39m.\u001b[39mclasses))\n\u001b[0;32m     69\u001b[0m     }\n\u001b[0;32m     70\u001b[0m     log \u001b[39m=\u001b[39m {\u001b[39m\"\u001b[39m\u001b[39mepoch\u001b[39m\u001b[39m\"\u001b[39m: epoch, \u001b[39m\"\u001b[39m\u001b[39mLoss train\u001b[39m\u001b[39m\"\u001b[39m: loss_train, \u001b[39m\"\u001b[39m\u001b[39mLoss val\u001b[39m\u001b[39m\"\u001b[39m: loss_val}\n",
      "File \u001b[1;32mc:\\Users\\danie\\Documents\\Studium\\GitLab\\dlbs-crop-segmentation\\src\\evaluation.py:59\u001b[0m, in \u001b[0;36m<dictcomp>\u001b[1;34m(.0)\u001b[0m\n\u001b[0;32m     38\u001b[0m \u001b[39mdef\u001b[39;00m \u001b[39mper_epoch\u001b[39m(\n\u001b[0;32m     39\u001b[0m     \u001b[39mself\u001b[39m,\n\u001b[0;32m     40\u001b[0m     epoch: \u001b[39mint\u001b[39m,\n\u001b[1;32m   (...)\u001b[0m\n\u001b[0;32m     46\u001b[0m     label_val: np\u001b[39m.\u001b[39marray,\n\u001b[0;32m     47\u001b[0m ) \u001b[39m-\u001b[39m\u001b[39m>\u001b[39m \u001b[39mNone\u001b[39;00m:\n\u001b[0;32m     48\u001b[0m \u001b[39m    \u001b[39m\u001b[39m\"\"\"\u001b[39;00m\n\u001b[0;32m     49\u001b[0m \u001b[39m    wandb log of different scores\u001b[39;00m\n\u001b[0;32m     50\u001b[0m \u001b[39m    :param int epoch: index of the epoch to log\u001b[39;00m\n\u001b[1;32m   (...)\u001b[0m\n\u001b[0;32m     56\u001b[0m \u001b[39m    :param np.array label_val: labels of the validation\u001b[39;00m\n\u001b[0;32m     57\u001b[0m \u001b[39m    \"\"\"\u001b[39;00m\n\u001b[0;32m     58\u001b[0m     f1_train \u001b[39m=\u001b[39m {\n\u001b[1;32m---> 59\u001b[0m         \u001b[39mf\u001b[39m\u001b[39m\"\u001b[39m\u001b[39mtrain f1_score von \u001b[39m\u001b[39m{\u001b[39;00m\u001b[39mself\u001b[39m\u001b[39m.\u001b[39mclasses[animal]\u001b[39m}\u001b[39;00m\u001b[39m\"\u001b[39m: f1_score(\n\u001b[0;32m     60\u001b[0m             label_train[:, animal], pred_train \u001b[39m==\u001b[39;49m animal\n\u001b[0;32m     61\u001b[0m         )\n\u001b[0;32m     62\u001b[0m         \u001b[39mfor\u001b[39;00m animal \u001b[39min\u001b[39;00m \u001b[39mrange\u001b[39m(\u001b[39mlen\u001b[39m(\u001b[39mself\u001b[39m\u001b[39m.\u001b[39mclasses))\n\u001b[0;32m     63\u001b[0m     }\n\u001b[0;32m     64\u001b[0m     f1_test \u001b[39m=\u001b[39m {\n\u001b[0;32m     65\u001b[0m         \u001b[39mf\u001b[39m\u001b[39m\"\u001b[39m\u001b[39mvalidation f1_score von \u001b[39m\u001b[39m{\u001b[39;00m\u001b[39mself\u001b[39m\u001b[39m.\u001b[39mclasses[animal]\u001b[39m}\u001b[39;00m\u001b[39m\"\u001b[39m: f1_score(\n\u001b[0;32m     66\u001b[0m             label_val[:, animal], pred_val \u001b[39m==\u001b[39m animal\n\u001b[0;32m     67\u001b[0m         )\n\u001b[0;32m     68\u001b[0m         \u001b[39mfor\u001b[39;00m animal \u001b[39min\u001b[39;00m \u001b[39mrange\u001b[39m(\u001b[39mlen\u001b[39m(\u001b[39mself\u001b[39m\u001b[39m.\u001b[39mclasses))\n\u001b[0;32m     69\u001b[0m     }\n\u001b[0;32m     70\u001b[0m     log \u001b[39m=\u001b[39m {\u001b[39m\"\u001b[39m\u001b[39mepoch\u001b[39m\u001b[39m\"\u001b[39m: epoch, \u001b[39m\"\u001b[39m\u001b[39mLoss train\u001b[39m\u001b[39m\"\u001b[39m: loss_train, \u001b[39m\"\u001b[39m\u001b[39mLoss val\u001b[39m\u001b[39m\"\u001b[39m: loss_val}\n",
      "File \u001b[1;32mc:\\Users\\danie\\.virtualenvs\\dlbs-crop-segmentation-NoGWFG2S\\Lib\\site-packages\\sklearn\\utils\\_param_validation.py:214\u001b[0m, in \u001b[0;36mvalidate_params.<locals>.decorator.<locals>.wrapper\u001b[1;34m(*args, **kwargs)\u001b[0m\n\u001b[0;32m    208\u001b[0m \u001b[39mtry\u001b[39;00m:\n\u001b[0;32m    209\u001b[0m     \u001b[39mwith\u001b[39;00m config_context(\n\u001b[0;32m    210\u001b[0m         skip_parameter_validation\u001b[39m=\u001b[39m(\n\u001b[0;32m    211\u001b[0m             prefer_skip_nested_validation \u001b[39mor\u001b[39;00m global_skip_validation\n\u001b[0;32m    212\u001b[0m         )\n\u001b[0;32m    213\u001b[0m     ):\n\u001b[1;32m--> 214\u001b[0m         \u001b[39mreturn\u001b[39;00m func(\u001b[39m*\u001b[39;49margs, \u001b[39m*\u001b[39;49m\u001b[39m*\u001b[39;49mkwargs)\n\u001b[0;32m    215\u001b[0m \u001b[39mexcept\u001b[39;00m InvalidParameterError \u001b[39mas\u001b[39;00m e:\n\u001b[0;32m    216\u001b[0m     \u001b[39m# When the function is just a wrapper around an estimator, we allow\u001b[39;00m\n\u001b[0;32m    217\u001b[0m     \u001b[39m# the function to delegate validation to the estimator, but we replace\u001b[39;00m\n\u001b[0;32m    218\u001b[0m     \u001b[39m# the name of the estimator by the name of the function in the error\u001b[39;00m\n\u001b[0;32m    219\u001b[0m     \u001b[39m# message to avoid confusion.\u001b[39;00m\n\u001b[0;32m    220\u001b[0m     msg \u001b[39m=\u001b[39m re\u001b[39m.\u001b[39msub(\n\u001b[0;32m    221\u001b[0m         \u001b[39mr\u001b[39m\u001b[39m\"\u001b[39m\u001b[39mparameter of \u001b[39m\u001b[39m\\\u001b[39m\u001b[39mw+ must be\u001b[39m\u001b[39m\"\u001b[39m,\n\u001b[0;32m    222\u001b[0m         \u001b[39mf\u001b[39m\u001b[39m\"\u001b[39m\u001b[39mparameter of \u001b[39m\u001b[39m{\u001b[39;00mfunc\u001b[39m.\u001b[39m\u001b[39m__qualname__\u001b[39m\u001b[39m}\u001b[39;00m\u001b[39m must be\u001b[39m\u001b[39m\"\u001b[39m,\n\u001b[0;32m    223\u001b[0m         \u001b[39mstr\u001b[39m(e),\n\u001b[0;32m    224\u001b[0m     )\n",
      "File \u001b[1;32mc:\\Users\\danie\\.virtualenvs\\dlbs-crop-segmentation-NoGWFG2S\\Lib\\site-packages\\sklearn\\metrics\\_classification.py:1239\u001b[0m, in \u001b[0;36mf1_score\u001b[1;34m(y_true, y_pred, labels, pos_label, average, sample_weight, zero_division)\u001b[0m\n\u001b[0;32m   1070\u001b[0m \u001b[39m@validate_params\u001b[39m(\n\u001b[0;32m   1071\u001b[0m     {\n\u001b[0;32m   1072\u001b[0m         \u001b[39m\"\u001b[39m\u001b[39my_true\u001b[39m\u001b[39m\"\u001b[39m: [\u001b[39m\"\u001b[39m\u001b[39marray-like\u001b[39m\u001b[39m\"\u001b[39m, \u001b[39m\"\u001b[39m\u001b[39msparse matrix\u001b[39m\u001b[39m\"\u001b[39m],\n\u001b[1;32m   (...)\u001b[0m\n\u001b[0;32m   1097\u001b[0m     zero_division\u001b[39m=\u001b[39m\u001b[39m\"\u001b[39m\u001b[39mwarn\u001b[39m\u001b[39m\"\u001b[39m,\n\u001b[0;32m   1098\u001b[0m ):\n\u001b[0;32m   1099\u001b[0m \u001b[39m    \u001b[39m\u001b[39m\"\"\"Compute the F1 score, also known as balanced F-score or F-measure.\u001b[39;00m\n\u001b[0;32m   1100\u001b[0m \n\u001b[0;32m   1101\u001b[0m \u001b[39m    The F1 score can be interpreted as a harmonic mean of the precision and\u001b[39;00m\n\u001b[1;32m   (...)\u001b[0m\n\u001b[0;32m   1237\u001b[0m \u001b[39m    array([0.66666667, 1.        , 0.66666667])\u001b[39;00m\n\u001b[0;32m   1238\u001b[0m \u001b[39m    \"\"\"\u001b[39;00m\n\u001b[1;32m-> 1239\u001b[0m     \u001b[39mreturn\u001b[39;00m fbeta_score(\n\u001b[0;32m   1240\u001b[0m         y_true,\n\u001b[0;32m   1241\u001b[0m         y_pred,\n\u001b[0;32m   1242\u001b[0m         beta\u001b[39m=\u001b[39;49m\u001b[39m1\u001b[39;49m,\n\u001b[0;32m   1243\u001b[0m         labels\u001b[39m=\u001b[39;49mlabels,\n\u001b[0;32m   1244\u001b[0m         pos_label\u001b[39m=\u001b[39;49mpos_label,\n\u001b[0;32m   1245\u001b[0m         average\u001b[39m=\u001b[39;49maverage,\n\u001b[0;32m   1246\u001b[0m         sample_weight\u001b[39m=\u001b[39;49msample_weight,\n\u001b[0;32m   1247\u001b[0m         zero_division\u001b[39m=\u001b[39;49mzero_division,\n\u001b[0;32m   1248\u001b[0m     )\n",
      "File \u001b[1;32mc:\\Users\\danie\\.virtualenvs\\dlbs-crop-segmentation-NoGWFG2S\\Lib\\site-packages\\sklearn\\utils\\_param_validation.py:187\u001b[0m, in \u001b[0;36mvalidate_params.<locals>.decorator.<locals>.wrapper\u001b[1;34m(*args, **kwargs)\u001b[0m\n\u001b[0;32m    185\u001b[0m global_skip_validation \u001b[39m=\u001b[39m get_config()[\u001b[39m\"\u001b[39m\u001b[39mskip_parameter_validation\u001b[39m\u001b[39m\"\u001b[39m]\n\u001b[0;32m    186\u001b[0m \u001b[39mif\u001b[39;00m global_skip_validation:\n\u001b[1;32m--> 187\u001b[0m     \u001b[39mreturn\u001b[39;00m func(\u001b[39m*\u001b[39;49margs, \u001b[39m*\u001b[39;49m\u001b[39m*\u001b[39;49mkwargs)\n\u001b[0;32m    189\u001b[0m func_sig \u001b[39m=\u001b[39m signature(func)\n\u001b[0;32m    191\u001b[0m \u001b[39m# Map *args/**kwargs to the function signature\u001b[39;00m\n",
      "File \u001b[1;32mc:\\Users\\danie\\.virtualenvs\\dlbs-crop-segmentation-NoGWFG2S\\Lib\\site-packages\\sklearn\\metrics\\_classification.py:1413\u001b[0m, in \u001b[0;36mfbeta_score\u001b[1;34m(y_true, y_pred, beta, labels, pos_label, average, sample_weight, zero_division)\u001b[0m\n\u001b[0;32m   1251\u001b[0m \u001b[39m@validate_params\u001b[39m(\n\u001b[0;32m   1252\u001b[0m     {\n\u001b[0;32m   1253\u001b[0m         \u001b[39m\"\u001b[39m\u001b[39my_true\u001b[39m\u001b[39m\"\u001b[39m: [\u001b[39m\"\u001b[39m\u001b[39marray-like\u001b[39m\u001b[39m\"\u001b[39m, \u001b[39m\"\u001b[39m\u001b[39msparse matrix\u001b[39m\u001b[39m\"\u001b[39m],\n\u001b[1;32m   (...)\u001b[0m\n\u001b[0;32m   1280\u001b[0m     zero_division\u001b[39m=\u001b[39m\u001b[39m\"\u001b[39m\u001b[39mwarn\u001b[39m\u001b[39m\"\u001b[39m,\n\u001b[0;32m   1281\u001b[0m ):\n\u001b[0;32m   1282\u001b[0m \u001b[39m    \u001b[39m\u001b[39m\"\"\"Compute the F-beta score.\u001b[39;00m\n\u001b[0;32m   1283\u001b[0m \n\u001b[0;32m   1284\u001b[0m \u001b[39m    The F-beta score is the weighted harmonic mean of precision and recall,\u001b[39;00m\n\u001b[1;32m   (...)\u001b[0m\n\u001b[0;32m   1410\u001b[0m \u001b[39m    0.38...\u001b[39;00m\n\u001b[0;32m   1411\u001b[0m \u001b[39m    \"\"\"\u001b[39;00m\n\u001b[1;32m-> 1413\u001b[0m     _, _, f, _ \u001b[39m=\u001b[39m precision_recall_fscore_support(\n\u001b[0;32m   1414\u001b[0m         y_true,\n\u001b[0;32m   1415\u001b[0m         y_pred,\n\u001b[0;32m   1416\u001b[0m         beta\u001b[39m=\u001b[39;49mbeta,\n\u001b[0;32m   1417\u001b[0m         labels\u001b[39m=\u001b[39;49mlabels,\n\u001b[0;32m   1418\u001b[0m         pos_label\u001b[39m=\u001b[39;49mpos_label,\n\u001b[0;32m   1419\u001b[0m         average\u001b[39m=\u001b[39;49maverage,\n\u001b[0;32m   1420\u001b[0m         warn_for\u001b[39m=\u001b[39;49m(\u001b[39m\"\u001b[39;49m\u001b[39mf-score\u001b[39;49m\u001b[39m\"\u001b[39;49m,),\n\u001b[0;32m   1421\u001b[0m         sample_weight\u001b[39m=\u001b[39;49msample_weight,\n\u001b[0;32m   1422\u001b[0m         zero_division\u001b[39m=\u001b[39;49mzero_division,\n\u001b[0;32m   1423\u001b[0m     )\n\u001b[0;32m   1424\u001b[0m     \u001b[39mreturn\u001b[39;00m f\n",
      "File \u001b[1;32mc:\\Users\\danie\\.virtualenvs\\dlbs-crop-segmentation-NoGWFG2S\\Lib\\site-packages\\sklearn\\utils\\_param_validation.py:187\u001b[0m, in \u001b[0;36mvalidate_params.<locals>.decorator.<locals>.wrapper\u001b[1;34m(*args, **kwargs)\u001b[0m\n\u001b[0;32m    185\u001b[0m global_skip_validation \u001b[39m=\u001b[39m get_config()[\u001b[39m\"\u001b[39m\u001b[39mskip_parameter_validation\u001b[39m\u001b[39m\"\u001b[39m]\n\u001b[0;32m    186\u001b[0m \u001b[39mif\u001b[39;00m global_skip_validation:\n\u001b[1;32m--> 187\u001b[0m     \u001b[39mreturn\u001b[39;00m func(\u001b[39m*\u001b[39;49margs, \u001b[39m*\u001b[39;49m\u001b[39m*\u001b[39;49mkwargs)\n\u001b[0;32m    189\u001b[0m func_sig \u001b[39m=\u001b[39m signature(func)\n\u001b[0;32m    191\u001b[0m \u001b[39m# Map *args/**kwargs to the function signature\u001b[39;00m\n",
      "File \u001b[1;32mc:\\Users\\danie\\.virtualenvs\\dlbs-crop-segmentation-NoGWFG2S\\Lib\\site-packages\\sklearn\\metrics\\_classification.py:1724\u001b[0m, in \u001b[0;36mprecision_recall_fscore_support\u001b[1;34m(y_true, y_pred, beta, labels, pos_label, average, warn_for, sample_weight, zero_division)\u001b[0m\n\u001b[0;32m   1566\u001b[0m \u001b[39m\u001b[39m\u001b[39m\"\"\"Compute precision, recall, F-measure and support for each class.\u001b[39;00m\n\u001b[0;32m   1567\u001b[0m \n\u001b[0;32m   1568\u001b[0m \u001b[39mThe precision is the ratio ``tp / (tp + fp)`` where ``tp`` is the number of\u001b[39;00m\n\u001b[1;32m   (...)\u001b[0m\n\u001b[0;32m   1721\u001b[0m \u001b[39m array([2, 2, 2]))\u001b[39;00m\n\u001b[0;32m   1722\u001b[0m \u001b[39m\"\"\"\u001b[39;00m\n\u001b[0;32m   1723\u001b[0m zero_division_value \u001b[39m=\u001b[39m _check_zero_division(zero_division)\n\u001b[1;32m-> 1724\u001b[0m labels \u001b[39m=\u001b[39m _check_set_wise_labels(y_true, y_pred, average, labels, pos_label)\n\u001b[0;32m   1726\u001b[0m \u001b[39m# Calculate tp_sum, pred_sum, true_sum ###\u001b[39;00m\n\u001b[0;32m   1727\u001b[0m samplewise \u001b[39m=\u001b[39m average \u001b[39m==\u001b[39m \u001b[39m\"\u001b[39m\u001b[39msamples\u001b[39m\u001b[39m\"\u001b[39m\n",
      "File \u001b[1;32mc:\\Users\\danie\\.virtualenvs\\dlbs-crop-segmentation-NoGWFG2S\\Lib\\site-packages\\sklearn\\metrics\\_classification.py:1501\u001b[0m, in \u001b[0;36m_check_set_wise_labels\u001b[1;34m(y_true, y_pred, average, labels, pos_label)\u001b[0m\n\u001b[0;32m   1498\u001b[0m \u001b[39mif\u001b[39;00m average \u001b[39mnot\u001b[39;00m \u001b[39min\u001b[39;00m average_options \u001b[39mand\u001b[39;00m average \u001b[39m!=\u001b[39m \u001b[39m\"\u001b[39m\u001b[39mbinary\u001b[39m\u001b[39m\"\u001b[39m:\n\u001b[0;32m   1499\u001b[0m     \u001b[39mraise\u001b[39;00m \u001b[39mValueError\u001b[39;00m(\u001b[39m\"\u001b[39m\u001b[39maverage has to be one of \u001b[39m\u001b[39m\"\u001b[39m \u001b[39m+\u001b[39m \u001b[39mstr\u001b[39m(average_options))\n\u001b[1;32m-> 1501\u001b[0m y_type, y_true, y_pred \u001b[39m=\u001b[39m _check_targets(y_true, y_pred)\n\u001b[0;32m   1502\u001b[0m \u001b[39m# Convert to Python primitive type to avoid NumPy type / Python str\u001b[39;00m\n\u001b[0;32m   1503\u001b[0m \u001b[39m# comparison. See https://github.com/numpy/numpy/issues/6784\u001b[39;00m\n\u001b[0;32m   1504\u001b[0m present_labels \u001b[39m=\u001b[39m unique_labels(y_true, y_pred)\u001b[39m.\u001b[39mtolist()\n",
      "File \u001b[1;32mc:\\Users\\danie\\.virtualenvs\\dlbs-crop-segmentation-NoGWFG2S\\Lib\\site-packages\\sklearn\\metrics\\_classification.py:104\u001b[0m, in \u001b[0;36m_check_targets\u001b[1;34m(y_true, y_pred)\u001b[0m\n\u001b[0;32m    102\u001b[0m \u001b[39m# No metrics support \"multiclass-multioutput\" format\u001b[39;00m\n\u001b[0;32m    103\u001b[0m \u001b[39mif\u001b[39;00m y_type \u001b[39mnot\u001b[39;00m \u001b[39min\u001b[39;00m [\u001b[39m\"\u001b[39m\u001b[39mbinary\u001b[39m\u001b[39m\"\u001b[39m, \u001b[39m\"\u001b[39m\u001b[39mmulticlass\u001b[39m\u001b[39m\"\u001b[39m, \u001b[39m\"\u001b[39m\u001b[39mmultilabel-indicator\u001b[39m\u001b[39m\"\u001b[39m]:\n\u001b[1;32m--> 104\u001b[0m     \u001b[39mraise\u001b[39;00m \u001b[39mValueError\u001b[39;00m(\u001b[39m\"\u001b[39m\u001b[39m{0}\u001b[39;00m\u001b[39m is not supported\u001b[39m\u001b[39m\"\u001b[39m\u001b[39m.\u001b[39mformat(y_type))\n\u001b[0;32m    106\u001b[0m \u001b[39mif\u001b[39;00m y_type \u001b[39min\u001b[39;00m [\u001b[39m\"\u001b[39m\u001b[39mbinary\u001b[39m\u001b[39m\"\u001b[39m, \u001b[39m\"\u001b[39m\u001b[39mmulticlass\u001b[39m\u001b[39m\"\u001b[39m]:\n\u001b[0;32m    107\u001b[0m     y_true \u001b[39m=\u001b[39m column_or_1d(y_true)\n",
      "\u001b[1;31mValueError\u001b[0m: unknown is not supported"
     ]
    }
   ],
   "source": [
    "test.train_model('test_run', 'Unet', 'all', num_epochs=1, test_model=True)"
   ]
  },
  {
   "cell_type": "code",
   "execution_count": 6,
   "metadata": {},
   "outputs": [
    {
     "data": {
      "text/html": [
       "<style>\n",
       "    table.wandb td:nth-child(1) { padding: 0 10px; text-align: left ; width: auto;} td:nth-child(2) {text-align: left ; width: 100%}\n",
       "    .wandb-row { display: flex; flex-direction: row; flex-wrap: wrap; justify-content: flex-start; width: 100% }\n",
       "    .wandb-col { display: flex; flex-direction: column; flex-basis: 100%; flex: 1; padding: 10px; }\n",
       "    </style>\n",
       "<div class=\"wandb-row\"><div class=\"wandb-col\"><h3>Run history:</h3><br/><table class=\"wandb\"><tr><td>epoch</td><td>▁</td></tr><tr><td>index_batch</td><td>▁</td></tr><tr><td>loss batch</td><td>▁</td></tr><tr><td>loss batch val</td><td>▁</td></tr></table><br/></div><div class=\"wandb-col\"><h3>Run summary:</h3><br/><table class=\"wandb\"><tr><td>epoch</td><td>0</td></tr><tr><td>index_batch</td><td>0</td></tr><tr><td>loss batch</td><td>1.75479</td></tr><tr><td>loss batch val</td><td>130.2671</td></tr></table><br/></div></div>"
      ],
      "text/plain": [
       "<IPython.core.display.HTML object>"
      ]
     },
     "metadata": {},
     "output_type": "display_data"
    },
    {
     "data": {
      "text/html": [
       " View run <strong style=\"color:#cdcd00\">all-Fold</strong> at: <a href='https://wandb.ai/daniela-herzig/dlbs_crop/runs/8du4g6f1' target=\"_blank\">https://wandb.ai/daniela-herzig/dlbs_crop/runs/8du4g6f1</a><br/>Synced 5 W&B file(s), 0 media file(s), 0 artifact file(s) and 0 other file(s)"
      ],
      "text/plain": [
       "<IPython.core.display.HTML object>"
      ]
     },
     "metadata": {},
     "output_type": "display_data"
    },
    {
     "data": {
      "text/html": [
       "Find logs at: <code>.\\wandb\\run-20231206_093716-8du4g6f1\\logs</code>"
      ],
      "text/plain": [
       "<IPython.core.display.HTML object>"
      ]
     },
     "metadata": {},
     "output_type": "display_data"
    }
   ],
   "source": [
    "wandb.finish()"
   ]
  },
  {
   "cell_type": "code",
   "execution_count": null,
   "metadata": {},
   "outputs": [],
   "source": []
  }
 ],
 "metadata": {
  "kernelspec": {
   "display_name": "dlbs-crop-segmentation-NoGWFG2S",
   "language": "python",
   "name": "python3"
  },
  "language_info": {
   "codemirror_mode": {
    "name": "ipython",
    "version": 3
   },
   "file_extension": ".py",
   "mimetype": "text/x-python",
   "name": "python",
   "nbconvert_exporter": "python",
   "pygments_lexer": "ipython3",
   "version": "3.11.2"
  }
 },
 "nbformat": 4,
 "nbformat_minor": 2
}
