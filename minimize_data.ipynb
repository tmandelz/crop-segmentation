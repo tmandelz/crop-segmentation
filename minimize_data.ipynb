{
 "cells": [
  {
   "cell_type": "code",
   "execution_count": null,
   "metadata": {},
   "outputs": [],
   "source": [
    "import h5py\n",
    "import torch\n",
    "import datetime\n",
    "import pandas as pd\n",
    "\n",
    "import matplotlib.pyplot as plt\n",
    "\n",
    "# set default plt figsize to (12,6)\n",
    "plt.rcParams[\"figure.figsize\"] = (12,6)\n",
    "pd.set_option('display.colheader_justify', 'center')\n",
    "file_name_zueri = r'D:\\Temp\\AgroLuege\\raw_data\\ZueriCrop\\ZueriCrop.hdf5'"
   ]
  },
  {
   "cell_type": "code",
   "execution_count": null,
   "metadata": {},
   "outputs": [],
   "source": [
    "# Open the HDF5 file in read mode\n",
    "with h5py.File(file_name_zueri, \"r\") as file:\n",
    "    # Check if the \"data\" dataset exists in the file\n",
    "    if \"data\" in file:\n",
    "        # Access the dataset and read its contents into a NumPy array\n",
    "        dataset = file[\"data\"][0:1,34:36,:,:,0:4]\n",
    "    else:\n",
    "        print(\"Dataset 'data' not found in the HDF5 file.\")\n"
   ]
  },
  {
   "cell_type": "code",
   "execution_count": null,
   "metadata": {},
   "outputs": [],
   "source": [
    "for i in range(0,4):\n",
    "    plt.hist(torch.Tensor(dataset[:,:,:,:,i]).flatten().numpy(),bins=200)\n",
    "    print(torch.Tensor(dataset[:,:,:,:,i]).flatten().numpy().mean())"
   ]
  },
  {
   "cell_type": "code",
   "execution_count": null,
   "metadata": {},
   "outputs": [],
   "source": [
    "import numpy as np\n",
    "for i in range(dataset.shape[0]):\n",
    "    image = torch.tensor(dataset[i, 0,:, :,:],dtype=float).permute(0, 1, 2,).numpy()\n",
    "    image= (image-np.min(image))/(np.max(image)-np.min(image)) \n",
    "    plt.imshow(image,cmap='gray')\n",
    "    plt.show()\n",
    "            "
   ]
  },
  {
   "cell_type": "code",
   "execution_count": null,
   "metadata": {},
   "outputs": [],
   "source": [
    "from src.dataset import Dataset\n",
    "import torch.utils.data\n",
    "import matplotlib.pyplot as plt\n",
    "file_name_zueri = r'D:\\Temp\\AgroLuege\\raw_data\\ZueriCrop\\ZueriCrop.hdf5'\n",
    "traindataset= Dataset(file_name_zueri, 0., 'train', False, 1, \"labels.csv\",time_downsample_factor=1, num_channel=9, apply_cloud_masking=False,small_train_set_mode=True)\n",
    "traindataloader = torch.utils.data.DataLoader(traindataset, batch_size=1, shuffle=True, num_workers=0)\n",
    "\n",
    "\n",
    "for iteration, data in enumerate(traindataloader):\n",
    "    input, target, target_2, target_3 = data\n",
    "    print(data)\n",
    "    data_i = data\n",
    "\n"
   ]
  },
  {
   "cell_type": "code",
   "execution_count": null,
   "metadata": {},
   "outputs": [],
   "source": [
    "\n",
    "# Create a heatmap plot\n",
    "plt.imshow(target[0], cmap='viridis', interpolation='nearest')\n",
    "plt.colorbar()  # Add a color bar on the right to indicate values\n",
    "plt.title('Heatmap of a 24x24 Field')\n",
    "plt.xlabel('X-Axis')\n",
    "plt.ylabel('Y-Axis')\n",
    "plt.show()\n",
    "\n",
    "# %%\n",
    "plt.imshow(target_2[0], cmap='viridis', interpolation='nearest')\n",
    "plt.colorbar()  # Add a color bar on the right to indicate values\n",
    "plt.title('Heatmap of a 24x24 Field')\n",
    "plt.xlabel('X-Axis')\n",
    "plt.ylabel('Y-Axis')\n",
    "plt.show()\n",
    "# %%\n",
    "plt.imshow(target_3[0], cmap='viridis', interpolation='nearest')\n",
    "plt.colorbar()  # Add a color bar on the right to indicate values\n",
    "plt.title('Heatmap of a 24x24 Field')\n",
    "plt.xlabel('X-Axis')\n",
    "plt.ylabel('Y-Axis')\n",
    "plt.show()\n",
    "# %%"
   ]
  }
 ],
 "metadata": {
  "kernelspec": {
   "display_name": "AgroLuege-2VDmF-75",
   "language": "python",
   "name": "python3"
  },
  "language_info": {
   "codemirror_mode": {
    "name": "ipython",
    "version": 3
   },
   "file_extension": ".py",
   "mimetype": "text/x-python",
   "name": "python",
   "nbconvert_exporter": "python",
   "pygments_lexer": "ipython3",
   "version": "3.10.5"
  }
 },
 "nbformat": 4,
 "nbformat_minor": 2
}
