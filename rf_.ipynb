{
 "cells": [
  {
   "cell_type": "code",
   "execution_count": null,
   "metadata": {},
   "outputs": [],
   "source": [
    "import numpy as np\n",
    "import matplotlib.pyplot as plt\n",
    "from skimage import data, segmentation, feature, future\n",
    "from sklearn.ensemble import RandomForestClassifier\n",
    "from functools import partial\n",
    "\n",
    "full_img = data.skin()\n",
    "\n",
    "img = full_img[:900, :900]\n",
    "img.shape"
   ]
  },
  {
   "cell_type": "code",
   "execution_count": null,
   "metadata": {},
   "outputs": [],
   "source": [
    "from src.dataset import Dataset\n",
    "\n",
    "import torch.utils.data\n",
    "import matplotlib.pyplot as plt\n",
    "file_name_zueri = r'D:\\Temp\\AgroLuege\\raw_data\\ZueriCrop\\ZueriCrop.hdf5'\n",
    "traindataset= Dataset(file_name_zueri, 0., 'train', False, 1, \"labels.csv\",time_downsample_factor=1, num_channel=3, apply_cloud_masking=False,small_train_set_mode=False)\n"
   ]
  },
  {
   "cell_type": "code",
   "execution_count": null,
   "metadata": {},
   "outputs": [],
   "source": [
    "traindataloader = torch.utils.data.DataLoader(traindataset, batch_size=11190, shuffle=True, num_workers=0)"
   ]
  },
  {
   "cell_type": "code",
   "execution_count": null,
   "metadata": {},
   "outputs": [],
   "source": [
    "for iteration, data in enumerate(traindataloader):\n",
    "    input, target, target_2, target_3 = data\n",
    "    print(data)\n",
    "    data_i = data"
   ]
  },
  {
   "cell_type": "code",
   "execution_count": null,
   "metadata": {},
   "outputs": [],
   "source": [
    "input= input[0:6000]\n",
    "target_3 = target_3[0:6000]"
   ]
  },
  {
   "cell_type": "code",
   "execution_count": null,
   "metadata": {},
   "outputs": [],
   "source": [
    "reshaped_tensor = input.reshape(24*60, 24*100, 3)\n",
    "reshaped_target = target_3.reshape(24*60, 24*100)"
   ]
  },
  {
   "cell_type": "code",
   "execution_count": null,
   "metadata": {},
   "outputs": [],
   "source": [
    "sigma_min = 1\n",
    "sigma_max = 16\n",
    "features_func = partial(feature.multiscale_basic_features,\n",
    "                        intensity=True, edges=False, texture=True,\n",
    "                        sigma_min=sigma_min, sigma_max=sigma_max,\n",
    "                        channel_axis=-1)\n",
    "features = features_func(reshaped_tensor)\n"
   ]
  },
  {
   "cell_type": "code",
   "execution_count": null,
   "metadata": {},
   "outputs": [],
   "source": [
    "clf = RandomForestClassifier(n_estimators=50, n_jobs=-1,\n",
    "                             max_depth=10, max_samples=0.05)\n",
    "clf = future.fit_segmenter(reshaped_target, features, clf)\n",
    "result = future.predict_segmenter(features, clf)\n"
   ]
  },
  {
   "cell_type": "code",
   "execution_count": null,
   "metadata": {},
   "outputs": [],
   "source": [
    "fig, ax = plt.subplots(1, 2, sharex=True, sharey=True, figsize=(9, 4))\n",
    "ax[0].imshow(segmentation.mark_boundaries(reshaped_tensor.numpy(), result, mode='thick'))\n",
    "# ax[0].contour(reshaped_target.numpy())\n",
    "ax[0].set_title('Image, mask and segmentation boundaries')\n",
    "ax[1].imshow(result)\n",
    "ax[1].set_title('Segmentation')\n",
    "fig.tight_layout()"
   ]
  },
  {
   "cell_type": "code",
   "execution_count": null,
   "metadata": {},
   "outputs": [],
   "source": [
    "np.sum(result == reshaped_target.numpy())/len(reshaped_target.flatten())*100"
   ]
  },
  {
   "cell_type": "code",
   "execution_count": null,
   "metadata": {},
   "outputs": [],
   "source": [
    "unique, counts = np.unique(result, return_counts=True)"
   ]
  },
  {
   "cell_type": "code",
   "execution_count": null,
   "metadata": {},
   "outputs": [],
   "source": [
    "print(np.asarray((unique, counts)).T)"
   ]
  },
  {
   "cell_type": "code",
   "execution_count": null,
   "metadata": {},
   "outputs": [],
   "source": []
  }
 ],
 "metadata": {
  "kernelspec": {
   "display_name": "AgroLuege--zjmSdF3",
   "language": "python",
   "name": "python3"
  },
  "language_info": {
   "codemirror_mode": {
    "name": "ipython",
    "version": 3
   },
   "file_extension": ".py",
   "mimetype": "text/x-python",
   "name": "python",
   "nbconvert_exporter": "python",
   "pygments_lexer": "ipython3",
   "version": "3.10.5"
  }
 },
 "nbformat": 4,
 "nbformat_minor": 2
}
